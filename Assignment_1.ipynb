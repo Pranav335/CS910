{
  "nbformat": 4,
  "nbformat_minor": 0,
  "metadata": {
    "colab": {
      "provenance": [],
      "authorship_tag": "ABX9TyMK7+ErWcXfbsIhfkFgj+Mk",
      "include_colab_link": true
    },
    "kernelspec": {
      "name": "python3",
      "display_name": "Python 3"
    },
    "language_info": {
      "name": "python"
    }
  },
  "cells": [
    {
      "cell_type": "markdown",
      "metadata": {
        "id": "view-in-github",
        "colab_type": "text"
      },
      "source": [
        "<a href=\"https://colab.research.google.com/github/Pranav335/CS910/blob/main/Assignment_1.ipynb\" target=\"_parent\"><img src=\"https://colab.research.google.com/assets/colab-badge.svg\" alt=\"Open In Colab\"/></a>"
      ]
    },
    {
      "cell_type": "markdown",
      "source": [
        "# Libraries"
      ],
      "metadata": {
        "id": "CG42l1nIHI4p"
      }
    },
    {
      "cell_type": "code",
      "execution_count": 209,
      "metadata": {
        "id": "H1isRrCCHEs6"
      },
      "outputs": [],
      "source": [
        "from keras.datasets import fashion_mnist\n",
        "import matplotlib.pyplot as plt\n",
        "import numpy as np"
      ]
    },
    {
      "cell_type": "markdown",
      "source": [
        "# Question 1"
      ],
      "metadata": {
        "id": "I17ul_OhHTub"
      }
    },
    {
      "cell_type": "code",
      "source": [
        "(xtrain, ytrain), (xtest, ytest) = fashion_mnist.load_data()"
      ],
      "metadata": {
        "id": "hz8t9YslHTBP"
      },
      "execution_count": 210,
      "outputs": []
    },
    {
      "cell_type": "code",
      "source": [
        "xtrain.shape"
      ],
      "metadata": {
        "colab": {
          "base_uri": "https://localhost:8080/"
        },
        "id": "4PVSj8Q9HvE5",
        "outputId": "7b964453-85d4-41ba-c901-6933ac31a7e6"
      },
      "execution_count": 211,
      "outputs": [
        {
          "output_type": "execute_result",
          "data": {
            "text/plain": [
              "(60000, 28, 28)"
            ]
          },
          "metadata": {},
          "execution_count": 211
        }
      ]
    },
    {
      "cell_type": "code",
      "source": [
        "ytrain.shape"
      ],
      "metadata": {
        "colab": {
          "base_uri": "https://localhost:8080/"
        },
        "id": "jcJSsnR_HxVT",
        "outputId": "204700a8-ee2e-4230-9895-7f482a370a04"
      },
      "execution_count": 212,
      "outputs": [
        {
          "output_type": "execute_result",
          "data": {
            "text/plain": [
              "(60000,)"
            ]
          },
          "metadata": {},
          "execution_count": 212
        }
      ]
    },
    {
      "cell_type": "code",
      "source": [
        "type(xtrain)"
      ],
      "metadata": {
        "colab": {
          "base_uri": "https://localhost:8080/"
        },
        "id": "a8AImJmxHzat",
        "outputId": "776d44aa-2931-43e6-efab-cadf20ab0297"
      },
      "execution_count": 213,
      "outputs": [
        {
          "output_type": "execute_result",
          "data": {
            "text/plain": [
              "numpy.ndarray"
            ]
          },
          "metadata": {},
          "execution_count": 213
        }
      ]
    },
    {
      "cell_type": "code",
      "source": [
        "\n",
        "\n",
        "plt.imshow(xtrain[2,:,:])"
      ],
      "metadata": {
        "colab": {
          "base_uri": "https://localhost:8080/",
          "height": 282
        },
        "id": "GMGpdKYiH2zm",
        "outputId": "276dbaad-7b58-45e6-a1f4-94f3072a09bb"
      },
      "execution_count": 214,
      "outputs": [
        {
          "output_type": "execute_result",
          "data": {
            "text/plain": [
              "<matplotlib.image.AxesImage at 0x7f1b9cb1b0a0>"
            ]
          },
          "metadata": {},
          "execution_count": 214
        },
        {
          "output_type": "display_data",
          "data": {
            "text/plain": [
              "<Figure size 432x288 with 1 Axes>"
            ],
            "image/png": "[encoded data removed]"
          },
          "metadata": {
            "needs_background": "light"
          }
        }
      ]
    },
    {
      "cell_type": "code",
      "source": [
        "def softmax(x):\n",
        "  exps = np.exp(x)\n",
        "  return exps/ np.sum(exps, axis = -1, keepdims = True)\n",
        "\n",
        "x = np.array([[1, 2], [4 ,2], [3,2]])\n",
        "softmax(x=x)"
      ],
      "metadata": {
        "colab": {
          "base_uri": "https://localhost:8080/"
        },
        "id": "GMM06ZAxzOB0",
        "outputId": "29b462f6-a3bd-4f23-bdf2-4ebac77cc91d"
      },
      "execution_count": 215,
      "outputs": [
        {
          "output_type": "execute_result",
          "data": {
            "text/plain": [
              "array([[0.26894142, 0.73105858],\n",
              "       [0.88079708, 0.11920292],\n",
              "       [0.73105858, 0.26894142]])"
            ]
          },
          "metadata": {},
          "execution_count": 215
        }
      ]
    },
    {
      "cell_type": "code",
      "source": [
        "np.sum(np.exp(x), axis = -1, keepdims = True).shape"
      ],
      "metadata": {
        "colab": {
          "base_uri": "https://localhost:8080/"
        },
        "id": "P5-uaei_0cS8",
        "outputId": "4264bf70-21df-40db-e851-4016c7d41966"
      },
      "execution_count": 216,
      "outputs": [
        {
          "output_type": "execute_result",
          "data": {
            "text/plain": [
              "(3, 1)"
            ]
          },
          "metadata": {},
          "execution_count": 216
        }
      ]
    },
    {
      "cell_type": "code",
      "source": [],
      "metadata": {
        "id": "gkVTWRNq0caW"
      },
      "execution_count": 216,
      "outputs": []
    },
    {
      "cell_type": "markdown",
      "source": [
        "# Question 2\n",
        "\n",
        "\n",
        "Lets define the dimension of the various matrixes and vector.\n",
        "\n",
        "W -> (N)"
      ],
      "metadata": {
        "id": "OBCa81n4IPvh"
      }
    },
    {
      "cell_type": "code",
      "source": [
        "class neural_network:\n",
        "\n",
        "  def __init__(self, x , hidden_layer = [2]):\n",
        "    self.x = x\n",
        "    self.n_x = x.shape[1]\n",
        "    self.L = len(hidden_layer)\n",
        "    self.neuron = [self.n_x] + hidden_layer + [10]\n",
        "    self.W = {}\n",
        "    self.B = {}\n",
        "    for i in range(self.L + 1):\n",
        "      self.W[i+1] = np.random.randn(self.neuron[i], self.neuron[i+1])\n",
        "      self.B[i+1] = np.zeros((self.neuron[i+1]))\n",
        "\n",
        "  def sigmoid(self, x):\n",
        "    return 1.0/(1.0 + np.exp(-x))\n",
        "\n",
        "  def softmax(self, x):\n",
        "    exps = np.exp(x)\n",
        "    return exps/ np.sum(exps, axis = -1, keepdims = True)\n",
        "\n",
        "  def forward_pass(self):\n",
        "    self.A = {}\n",
        "    self.H = {}\n",
        "    self.H[0] = self.x\n",
        "    for i in range(self.L):\n",
        "      self.A[i+1] = self.H[i] @ self.W[i+1] + self.B[i+1]\n",
        "      self.H[i+1] = self.sigmoid(self.A[i+1])\n",
        "\n",
        "    self.A[self.L+1] = self.H[self.L] @ self.W[self.L+1] + self.B[self.L+1]\n",
        "    self.H[self.L+1] = self.softmax(self.A[self.L + 1])\n",
        "\n",
        "    return self.H[self.L+1]\n",
        "\n",
        "\n",
        "\n"
      ],
      "metadata": {
        "id": "MXiq2fABIRVY"
      },
      "execution_count": 217,
      "outputs": []
    },
    {
      "cell_type": "code",
      "source": [
        "# Reshaping the array into a new row.\n",
        "xtrain = np.reshape(xtrain, (xtrain.shape[0], -1))/255\n",
        "xtest = np.reshape(xtrain, (xtest.shape[0], -1))/255\n",
        "xtrain.shape"
      ],
      "metadata": {
        "id": "CpFpECmXIDNo",
        "colab": {
          "base_uri": "https://localhost:8080/"
        },
        "outputId": "d195813e-8259-4322-98fc-b475a9f2ee40"
      },
      "execution_count": 218,
      "outputs": [
        {
          "output_type": "execute_result",
          "data": {
            "text/plain": [
              "(60000, 784)"
            ]
          },
          "metadata": {},
          "execution_count": 218
        }
      ]
    },
    {
      "cell_type": "code",
      "source": [
        "xtrain[1, :]"
      ],
      "metadata": {
        "id": "UD9YzEmNwRIH",
        "colab": {
          "base_uri": "https://localhost:8080/"
        },
        "outputId": "b530cdf7-ecf7-4775-9057-d7c251d001a7"
      },
      "execution_count": 219,
      "outputs": [
        {
          "output_type": "execute_result",
          "data": {
            "text/plain": [
              "array([0.        , 0.        , 0.        , 0.        , 0.        ,\n",
              "       0.00392157, 0.        , 0.        , 0.        , 0.        ,\n",
              "       0.16078431, 0.7372549 , 0.40392157, 0.21176471, 0.18823529,\n",
              "       0.16862745, 0.34117647, 0.65882353, 0.52156863, 0.0627451 ,\n",
              "       0.        , 0.        , 0.        , 0.        , 0.        ,\n",
              "       0.        , 0.        , 0.        , 0.        , 0.        ,\n",
              "       0.        , 0.00392157, 0.        , 0.        , 0.        ,\n",
              "       0.19215686, 0.53333333, 0.85882353, 0.84705882, 0.89411765,\n",
              "       0.9254902 , 1.        , 1.        , 1.        , 1.        ,\n",
              "       0.85098039, 0.84313725, 0.99607843, 0.90588235, 0.62745098,\n",
              "       0.17647059, 0.        , 0.        , 0.        , 0.        ,\n",
              "       0.        , 0.        , 0.        , 0.        , 0.        ,\n",
              "       0.        , 0.05490196, 0.69019608, 0.87058824, 0.87843137,\n",
              "       0.83137255, 0.79607843, 0.77647059, 0.76862745, 0.78431373,\n",
              "       0.84313725, 0.8       , 0.79215686, 0.78823529, 0.78823529,\n",
              "       0.78823529, 0.81960784, 0.85490196, 0.87843137, 0.64313725,\n",
              "       0.        , 0.        , 0.        , 0.        , 0.        ,\n",
              "       0.        , 0.        , 0.        , 0.        , 0.7372549 ,\n",
              "       0.85882353, 0.78431373, 0.77647059, 0.79215686, 0.77647059,\n",
              "       0.78039216, 0.78039216, 0.78823529, 0.76862745, 0.77647059,\n",
              "       0.77647059, 0.78431373, 0.78431373, 0.78431373, 0.78431373,\n",
              "       0.78823529, 0.78431373, 0.88235294, 0.16078431, 0.        ,\n",
              "       0.        , 0.        , 0.        , 0.        , 0.        ,\n",
              "       0.        , 0.2       , 0.85882353, 0.78039216, 0.79607843,\n",
              "       0.79607843, 0.83137255, 0.93333333, 0.97254902, 0.98039216,\n",
              "       0.96078431, 0.97647059, 0.96470588, 0.96862745, 0.98823529,\n",
              "       0.97254902, 0.92156863, 0.81176471, 0.79607843, 0.79607843,\n",
              "       0.87058824, 0.54901961, 0.        , 0.        , 0.        ,\n",
              "       0.        , 0.        , 0.        , 0.        , 0.45490196,\n",
              "       0.88627451, 0.80784314, 0.8       , 0.81176471, 0.8       ,\n",
              "       0.39607843, 0.29411765, 0.18431373, 0.28627451, 0.18823529,\n",
              "       0.19607843, 0.17647059, 0.2       , 0.24705882, 0.44313725,\n",
              "       0.87058824, 0.79215686, 0.80784314, 0.8627451 , 0.87843137,\n",
              "       0.        , 0.        , 0.        , 0.        , 0.        ,\n",
              "       0.        , 0.        , 0.78431373, 0.87058824, 0.81960784,\n",
              "       0.79607843, 0.84313725, 0.78431373, 0.        , 0.2745098 ,\n",
              "       0.38431373, 0.        , 0.40392157, 0.23137255, 0.26666667,\n",
              "       0.27843137, 0.19215686, 0.        , 0.85882353, 0.80784314,\n",
              "       0.83921569, 0.82352941, 0.98039216, 0.14901961, 0.        ,\n",
              "       0.        , 0.        , 0.        , 0.        , 0.        ,\n",
              "       0.96862745, 0.85490196, 0.83137255, 0.82352941, 0.84313725,\n",
              "       0.83921569, 0.        , 0.99607843, 0.95294118, 0.54509804,\n",
              "       1.        , 0.68235294, 0.98431373, 1.        , 0.80392157,\n",
              "       0.        , 0.84313725, 0.85098039, 0.83921569, 0.81568627,\n",
              "       0.8627451 , 0.37254902, 0.        , 0.        , 0.        ,\n",
              "       0.        , 0.        , 0.17647059, 0.88627451, 0.83921569,\n",
              "       0.83921569, 0.84313725, 0.87843137, 0.80392157, 0.        ,\n",
              "       0.16470588, 0.1372549 , 0.23529412, 0.0627451 , 0.06666667,\n",
              "       0.04705882, 0.05098039, 0.2745098 , 0.        , 0.74117647,\n",
              "       0.84705882, 0.83137255, 0.80784314, 0.83137255, 0.61176471,\n",
              "       0.        , 0.        , 0.        , 0.        , 0.        ,\n",
              "       0.64313725, 0.92156863, 0.83921569, 0.82745098, 0.8627451 ,\n",
              "       0.84705882, 0.78823529, 0.20392157, 0.27843137, 0.34901961,\n",
              "       0.36862745, 0.3254902 , 0.30588235, 0.2745098 , 0.29803922,\n",
              "       0.36078431, 0.34117647, 0.80784314, 0.81176471, 0.87058824,\n",
              "       0.83529412, 0.85882353, 0.81568627, 0.        , 0.        ,\n",
              "       0.        , 0.        , 0.        , 0.41568627, 0.73333333,\n",
              "       0.8745098 , 0.92941176, 0.97254902, 0.82745098, 0.77647059,\n",
              "       0.98823529, 0.98039216, 0.97254902, 0.96078431, 0.97254902,\n",
              "       0.98823529, 0.99215686, 0.98039216, 0.98823529, 0.9372549 ,\n",
              "       0.78823529, 0.83137255, 0.88235294, 0.84313725, 0.75686275,\n",
              "       0.44313725, 0.        , 0.        , 0.        , 0.        ,\n",
              "       0.        , 0.        , 0.        , 0.06666667, 0.21176471,\n",
              "       0.62352941, 0.87058824, 0.75686275, 0.81568627, 0.75294118,\n",
              "       0.77254902, 0.78431373, 0.78431373, 0.78431373, 0.78431373,\n",
              "       0.78823529, 0.79607843, 0.76470588, 0.82352941, 0.64705882,\n",
              "       0.        , 0.        , 0.        , 0.        , 0.        ,\n",
              "       0.        , 0.        , 0.        , 0.        , 0.        ,\n",
              "       0.        , 0.        , 0.        , 0.18431373, 0.88235294,\n",
              "       0.75294118, 0.83921569, 0.79607843, 0.80784314, 0.8       ,\n",
              "       0.8       , 0.80392157, 0.80784314, 0.8       , 0.83137255,\n",
              "       0.77254902, 0.85490196, 0.41960784, 0.        , 0.        ,\n",
              "       0.        , 0.        , 0.        , 0.        , 0.        ,\n",
              "       0.        , 0.        , 0.        , 0.00392157, 0.02352941,\n",
              "       0.        , 0.18039216, 0.83137255, 0.76470588, 0.83137255,\n",
              "       0.79215686, 0.80784314, 0.80392157, 0.8       , 0.80392157,\n",
              "       0.80784314, 0.8       , 0.83137255, 0.78431373, 0.85490196,\n",
              "       0.35686275, 0.        , 0.01176471, 0.00392157, 0.        ,\n",
              "       0.        , 0.        , 0.        , 0.        , 0.        ,\n",
              "       0.        , 0.        , 0.00392157, 0.        , 0.04313725,\n",
              "       0.77254902, 0.78039216, 0.80392157, 0.79215686, 0.80392157,\n",
              "       0.80784314, 0.8       , 0.80392157, 0.81176471, 0.8       ,\n",
              "       0.80392157, 0.80392157, 0.85490196, 0.30196078, 0.        ,\n",
              "       0.01960784, 0.        , 0.        , 0.        , 0.        ,\n",
              "       0.        , 0.        , 0.        , 0.        , 0.        ,\n",
              "       0.01176471, 0.        , 0.00784314, 0.74901961, 0.77647059,\n",
              "       0.78823529, 0.80392157, 0.80784314, 0.80392157, 0.80392157,\n",
              "       0.80784314, 0.81960784, 0.80784314, 0.78039216, 0.81960784,\n",
              "       0.85882353, 0.29019608, 0.        , 0.01960784, 0.        ,\n",
              "       0.        , 0.        , 0.        , 0.        , 0.        ,\n",
              "       0.        , 0.        , 0.        , 0.00784314, 0.        ,\n",
              "       0.        , 0.7372549 , 0.77254902, 0.78431373, 0.81176471,\n",
              "       0.81176471, 0.8       , 0.81176471, 0.81176471, 0.82352941,\n",
              "       0.81568627, 0.77647059, 0.81176471, 0.86666667, 0.28235294,\n",
              "       0.        , 0.01568627, 0.        , 0.        , 0.        ,\n",
              "       0.        , 0.        , 0.        , 0.        , 0.        ,\n",
              "       0.        , 0.00784314, 0.        , 0.        , 0.84313725,\n",
              "       0.77647059, 0.79607843, 0.80784314, 0.81568627, 0.80392157,\n",
              "       0.81176471, 0.81176471, 0.82352941, 0.81568627, 0.78431373,\n",
              "       0.79215686, 0.87058824, 0.29411765, 0.        , 0.01568627,\n",
              "       0.        , 0.        , 0.        , 0.        , 0.        ,\n",
              "       0.        , 0.        , 0.        , 0.        , 0.00392157,\n",
              "       0.        , 0.        , 0.83137255, 0.77647059, 0.81960784,\n",
              "       0.80784314, 0.81960784, 0.80784314, 0.81568627, 0.81176471,\n",
              "       0.82745098, 0.80784314, 0.80392157, 0.77647059, 0.86666667,\n",
              "       0.31372549, 0.        , 0.01176471, 0.        , 0.        ,\n",
              "       0.        , 0.        , 0.        , 0.        , 0.        ,\n",
              "       0.        , 0.        , 0.00392157, 0.        , 0.        ,\n",
              "       0.8       , 0.78823529, 0.80392157, 0.81568627, 0.81176471,\n",
              "       0.80392157, 0.82745098, 0.80392157, 0.82352941, 0.82352941,\n",
              "       0.81960784, 0.76470588, 0.86666667, 0.37647059, 0.        ,\n",
              "       0.01176471, 0.        , 0.        , 0.        , 0.        ,\n",
              "       0.        , 0.        , 0.        , 0.        , 0.        ,\n",
              "       0.00392157, 0.        , 0.        , 0.79215686, 0.78823529,\n",
              "       0.80392157, 0.81960784, 0.81176471, 0.80392157, 0.83529412,\n",
              "       0.80784314, 0.82352941, 0.81960784, 0.82352941, 0.76078431,\n",
              "       0.85098039, 0.41176471, 0.        , 0.00784314, 0.        ,\n",
              "       0.        , 0.        , 0.        , 0.        , 0.        ,\n",
              "       0.        , 0.        , 0.        , 0.00392157, 0.        ,\n",
              "       0.        , 0.8       , 0.8       , 0.80392157, 0.81568627,\n",
              "       0.81176471, 0.80392157, 0.84313725, 0.81176471, 0.82352941,\n",
              "       0.81568627, 0.82745098, 0.75686275, 0.83529412, 0.45098039,\n",
              "       0.        , 0.00784314, 0.        , 0.        , 0.        ,\n",
              "       0.        , 0.        , 0.        , 0.        , 0.        ,\n",
              "       0.        , 0.        , 0.        , 0.        , 0.8       ,\n",
              "       0.81176471, 0.81176471, 0.81568627, 0.80784314, 0.80784314,\n",
              "       0.84313725, 0.82352941, 0.82352941, 0.81176471, 0.83137255,\n",
              "       0.76470588, 0.82352941, 0.4627451 , 0.        , 0.00784314,\n",
              "       0.        , 0.        , 0.        , 0.        , 0.        ,\n",
              "       0.        , 0.        , 0.        , 0.        , 0.00392157,\n",
              "       0.        , 0.        , 0.77647059, 0.81568627, 0.81568627,\n",
              "       0.81568627, 0.8       , 0.81176471, 0.83137255, 0.83137255,\n",
              "       0.82352941, 0.81176471, 0.82745098, 0.76862745, 0.81176471,\n",
              "       0.4745098 , 0.        , 0.00392157, 0.        , 0.        ,\n",
              "       0.        , 0.        , 0.        , 0.        , 0.        ,\n",
              "       0.        , 0.        , 0.00392157, 0.        , 0.        ,\n",
              "       0.77647059, 0.82352941, 0.81176471, 0.81568627, 0.80784314,\n",
              "       0.81960784, 0.83529412, 0.83137255, 0.82745098, 0.81176471,\n",
              "       0.82352941, 0.77254902, 0.81176471, 0.48627451, 0.        ,\n",
              "       0.00392157, 0.        , 0.        , 0.        , 0.        ,\n",
              "       0.        , 0.        , 0.        , 0.        , 0.        ,\n",
              "       0.        , 0.        , 0.        , 0.6745098 , 0.82352941,\n",
              "       0.79607843, 0.78823529, 0.78039216, 0.8       , 0.81176471,\n",
              "       0.80392157, 0.8       , 0.78823529, 0.80392157, 0.77254902,\n",
              "       0.80784314, 0.49803922, 0.        , 0.        , 0.        ,\n",
              "       0.        , 0.        , 0.        , 0.        , 0.        ,\n",
              "       0.        , 0.        , 0.        , 0.        , 0.        ,\n",
              "       0.        , 0.7372549 , 0.86666667, 0.83921569, 0.91764706,\n",
              "       0.9254902 , 0.93333333, 0.95686275, 0.95686275, 0.95686275,\n",
              "       0.94117647, 0.95294118, 0.83921569, 0.87843137, 0.63529412,\n",
              "       0.        , 0.00784314, 0.        , 0.        , 0.        ,\n",
              "       0.        , 0.        , 0.        , 0.        , 0.        ,\n",
              "       0.        , 0.00392157, 0.        , 0.        , 0.54509804,\n",
              "       0.57254902, 0.50980392, 0.52941176, 0.52941176, 0.5372549 ,\n",
              "       0.49019608, 0.48627451, 0.49019608, 0.4745098 , 0.46666667,\n",
              "       0.44705882, 0.50980392, 0.29803922, 0.        , 0.        ,\n",
              "       0.        , 0.        , 0.        , 0.        ])"
            ]
          },
          "metadata": {},
          "execution_count": 219
        }
      ]
    },
    {
      "cell_type": "markdown",
      "source": [
        "# Question 3"
      ],
      "metadata": {
        "id": "OzohHvy-38EQ"
      }
    },
    {
      "cell_type": "code",
      "source": [
        "from sklearn.metrics import log_loss\n",
        "import matplotlib.pyplot as plt\n",
        "class neural_network:\n",
        "\n",
        "  def __init__(self, x , hidden_layer = [2]):\n",
        "    x = x.reshape(1, -1)\n",
        "    self.x = x # (N x 784)\n",
        "    self.n_x = x.shape[1] # 784\n",
        "    self.L = len(hidden_layer) # 1\n",
        "    self.neuron = [self.n_x] + hidden_layer + [10] # [784, 1, 10 ]\n",
        "    self.W = {}\n",
        "    self.B = {}\n",
        "    self.A = {}\n",
        "    self.H = {}\n",
        "    for i in range(self.L + 1):\n",
        "      self.W[i+1] = np.random.randn(self.neuron[i+1], self.neuron[i]) #[n_y x n_x]\n",
        "      self.B[i+1] = np.zeros((self.neuron[i+1], 1)) # [n_y, 1]\n",
        "\n",
        "  def positive_sigmoid(self, x):\n",
        "    ''' Calculate the sigmoid function when x > 0'''\n",
        "    return 1.0/(1.0 + np.exp(-x))\n",
        "\n",
        "  def negative_sigmoid(self, x):\n",
        "    '''Calculate the sigmoid function when x < 0'''\n",
        "    exp = np.exp(x)\n",
        "    return exp/ (1 + exp)\n",
        "\n",
        "  def sigmoid(self, x):\n",
        "    ''' Calculate the sigmoid function'''\n",
        "    positives = x >=0  # Extract the index of the positive values\n",
        "    negative = ~positives\n",
        "\n",
        "    result = np.empty_like(x)\n",
        "    result[positives] = self.positive_sigmoid(x[positives]) # Find the sigmoid of the the positive \n",
        "    result[negative] = self.negative_sigmoid(x[negative])\n",
        "\n",
        "    return result\n",
        "\n",
        "  def softmax(self, x):\n",
        "    exps = np.exp(x)\n",
        "    #return exps/ np.sum(exps, axis = -1, keepdims = True)\n",
        "    return exps/ np.sum(exps)\n",
        "\n",
        "  def forward_pass(self):\n",
        "    self.H[0] = self.x.T # (784 x N)\n",
        "    #print('=====Forward Pass===')\n",
        "    for i in range(self.L):\n",
        "      self.A[i+1] = self.W[i+1] @ self.H[i]  + self.B[i+1] # (2, 784) x (784, N) + (2, 1) -> (2, N)\n",
        "      #print(f'A[{i+1}]: {self.A[i+1]}')\n",
        "      self.H[i+1] = self.sigmoid(self.A[i+1]) #(2, N)\n",
        "\n",
        "    self.A[self.L+1] = self.W[self.L+1] @ self.H[self.L] + self.B[self.L+1] #(k, k-1) x (k-1, N) + (k, 1)-> (k, N)\n",
        "    self.H[self.L+1] = self.softmax(self.A[self.L + 1]) # (k, N)\n",
        "\n",
        "    return self.H[self.L+1] \n",
        "\n",
        "  def grad_sigmoid(self,x):\n",
        "    return x * (1 - x)\n",
        "\n",
        "  def gradient(self, y):\n",
        "    y = y.reshape(-1, 1)\n",
        "    self.dW = {}\n",
        "    self.dB = {}\n",
        "    self.dA = {}\n",
        "    self.dH = {}\n",
        "    # y = (N, k)\n",
        "    self.forward_pass()\n",
        "    self.dA[self.L + 1] = self.H[self.L+1] - y # (k, N)\n",
        "    for k in range(self.L+1, 0, -1):\n",
        "      self.dW[k] = self.dA[k] @ self.H[k-1].reshape(1, -1) # (2, N) x (N, 2) -> (2, 2)\n",
        "      #self.dB[k] = np.sum(self.dA[k], axis = 1).reshape(-1, 1) # (2, N) -> (2, 1)\n",
        "      self.dB[k] = self.dA[k]\n",
        "      if k > 1:\n",
        "        self.dH[k-1] = self.W[k].T @ self.dA[k] \n",
        "        self.dA[k-1] = self.dH[k-1] * self.grad_sigmoid(self.H[k-1])\n",
        "        #print(f'A[{k-1}]: {self.A[k-1]}')\n",
        "\n",
        "  def cross_entropy(self, ytrue, ypred):\n",
        "    ytrue = ytrue.reshape(-1, 1)\n",
        "    ypred = ypred.reshape(-1, 1)\n",
        "    loss = 0\n",
        "    eps = 0.001\n",
        "    for y1, y2 in zip(ytrue, ypred):\n",
        "      loss -= y1 * np.log(y2 + eps)\n",
        "    \n",
        "    return loss\n",
        "\n",
        "\n",
        "  def fit_neural_network(self,Y, epochs = 1000, lr = 0.1):\n",
        "    loss = []\n",
        "    for i in range(epochs):\n",
        "      self.gradient(Y) # Y -> (N, k)\n",
        "      #print('dB[1]=', self.dB[1])\n",
        "      #print('dA[1]=', self.dA[1])\n",
        "      for i in range(self.L + 1):\n",
        "        self.W[i+1] -= lr * self.dW[i+1]\n",
        "        self.B[i+1] -= lr * self.dB[i+1]\n",
        "      \n",
        "      #print('B[1]=', self.B[1])\n",
        "      \n",
        "     \n",
        "      yhat = self.forward_pass()\n",
        "      epoch_loss = self.cross_entropy(Y, yhat)\n",
        "      loss.append(epoch_loss)\n",
        "\n",
        "    \n",
        "    plt.plot([*range(epochs)], loss)\n",
        "    plt.xlabel('Epochs')\n",
        "    plt.ylabel('Loss')\n",
        "\n",
        "\n"
      ],
      "metadata": {
        "id": "D888uSgs4Lap"
      },
      "execution_count": 220,
      "outputs": []
    },
    {
      "cell_type": "code",
      "source": [
        "ytrain.shape\n",
        "x = np.array([1,2,-3,4])\n",
        "x>=0"
      ],
      "metadata": {
        "colab": {
          "base_uri": "https://localhost:8080/"
        },
        "id": "dHXxsYamfe4p",
        "outputId": "f29d6557-4cca-4cc7-8545-0cc4d0390669"
      },
      "execution_count": 221,
      "outputs": [
        {
          "output_type": "execute_result",
          "data": {
            "text/plain": [
              "array([ True,  True, False,  True])"
            ]
          },
          "metadata": {},
          "execution_count": 221
        }
      ]
    },
    {
      "cell_type": "code",
      "source": [
        "from sklearn.preprocessing import OneHotEncoder\n",
        "\n",
        "encoder = OneHotEncoder()\n",
        "ytrain_oh = encoder.fit_transform(ytrain.reshape(-1,1))\n",
        "ytest_oh = encoder.fit_transform(ytest.reshape(-1,1))"
      ],
      "metadata": {
        "id": "DvZ_woArfgNs"
      },
      "execution_count": 222,
      "outputs": []
    },
    {
      "cell_type": "code",
      "source": [
        "ytrain_oh = ytrain_oh.toarray()\n",
        "ytest_oh = ytest_oh.toarray()"
      ],
      "metadata": {
        "id": "Q9OCEqx6idzW"
      },
      "execution_count": 223,
      "outputs": []
    },
    {
      "cell_type": "code",
      "source": [
        "ytrain_oh.shape"
      ],
      "metadata": {
        "colab": {
          "base_uri": "https://localhost:8080/"
        },
        "id": "7C3hqHuFisEJ",
        "outputId": "3e6c8649-ac72-4b37-ae88-6f7fdecbc154"
      },
      "execution_count": 224,
      "outputs": [
        {
          "output_type": "execute_result",
          "data": {
            "text/plain": [
              "(60000, 10)"
            ]
          },
          "metadata": {},
          "execution_count": 224
        }
      ]
    },
    {
      "cell_type": "code",
      "source": [
        "nn = neural_network(xtrain[0, :])\n",
        "yhat = nn.forward_pass()\n",
        "yhat.shape\n"
      ],
      "metadata": {
        "colab": {
          "base_uri": "https://localhost:8080/"
        },
        "id": "W-OJTLr9el00",
        "outputId": "57ba35f0-d7c4-4e10-b51a-a88331791629"
      },
      "execution_count": 225,
      "outputs": [
        {
          "output_type": "execute_result",
          "data": {
            "text/plain": [
              "(10, 1)"
            ]
          },
          "metadata": {},
          "execution_count": 225
        }
      ]
    },
    {
      "cell_type": "code",
      "source": [
        "nn.W[1]"
      ],
      "metadata": {
        "colab": {
          "base_uri": "https://localhost:8080/"
        },
        "id": "QX-DUm_prYXD",
        "outputId": "2d05f799-bd88-4725-be7a-1063a9405271"
      },
      "execution_count": 226,
      "outputs": [
        {
          "output_type": "execute_result",
          "data": {
            "text/plain": [
              "array([[ 0.18298643, -2.5974263 , -0.16321068, ...,  1.30236125,\n",
              "        -0.36998099, -0.152314  ],\n",
              "       [ 0.65830035, -0.6954961 ,  1.51507751, ..., -0.26263213,\n",
              "        -0.78877623, -0.69949622]])"
            ]
          },
          "metadata": {},
          "execution_count": 226
        }
      ]
    },
    {
      "cell_type": "code",
      "source": [
        "nn.W[2]"
      ],
      "metadata": {
        "colab": {
          "base_uri": "https://localhost:8080/"
        },
        "id": "zO1r7OQjmss8",
        "outputId": "6f5c27d4-7405-4405-c0e8-f0a9e37a8a02"
      },
      "execution_count": 227,
      "outputs": [
        {
          "output_type": "execute_result",
          "data": {
            "text/plain": [
              "array([[-1.04849109,  0.01726576],\n",
              "       [ 0.76232102,  1.06744701],\n",
              "       [ 0.3873697 , -0.60589332],\n",
              "       [ 1.01217252, -1.98784651],\n",
              "       [-0.2440184 , -1.38018056],\n",
              "       [-0.45166054, -0.68673215],\n",
              "       [-0.40054418,  1.20669048],\n",
              "       [-1.39072571, -2.63705644],\n",
              "       [ 0.75381716, -1.1067247 ],\n",
              "       [ 1.16067531, -0.0932858 ]])"
            ]
          },
          "metadata": {},
          "execution_count": 227
        }
      ]
    },
    {
      "cell_type": "code",
      "source": [
        "nn.H[0].T.shape"
      ],
      "metadata": {
        "colab": {
          "base_uri": "https://localhost:8080/"
        },
        "id": "polCCeqQqvaQ",
        "outputId": "1c5acb9c-5a1f-4f3a-9d8c-44c5f7181429"
      },
      "execution_count": 228,
      "outputs": [
        {
          "output_type": "execute_result",
          "data": {
            "text/plain": [
              "(1, 784)"
            ]
          },
          "metadata": {},
          "execution_count": 228
        }
      ]
    },
    {
      "cell_type": "code",
      "source": [
        "nn.fit_neural_network(ytrain_oh[0, :], epochs = 1000)"
      ],
      "metadata": {
        "colab": {
          "base_uri": "https://localhost:8080/",
          "height": 279
        },
        "id": "mtkZA74tngam",
        "outputId": "6bb575fd-163f-4b45-812e-8d1dab7a184a"
      },
      "execution_count": 229,
      "outputs": [
        {
          "output_type": "display_data",
          "data": {
            "text/plain": [
              "<Figure size 432x288 with 1 Axes>"
            ],
            "image/png": "[encoded data removed]"
          },
          "metadata": {
            "needs_background": "light"
          }
        }
      ]
    },
    {
      "cell_type": "code",
      "source": [
        "nn.A[1]"
      ],
      "metadata": {
        "colab": {
          "base_uri": "https://localhost:8080/"
        },
        "id": "nXO1JhLKo--Z",
        "outputId": "358eaa54-8003-40ff-ffc6-6f3026bddbec"
      },
      "execution_count": 230,
      "outputs": [
        {
          "output_type": "execute_result",
          "data": {
            "text/plain": [
              "array([[7.01536661],\n",
              "       [5.60667851]])"
            ]
          },
          "metadata": {},
          "execution_count": 230
        }
      ]
    },
    {
      "cell_type": "code",
      "source": [
        "nn.dA[1]"
      ],
      "metadata": {
        "colab": {
          "base_uri": "https://localhost:8080/"
        },
        "id": "kTEDtmursqPg",
        "outputId": "e07375fa-555b-4a9b-d8d9-31d95058b40c"
      },
      "execution_count": 231,
      "outputs": [
        {
          "output_type": "execute_result",
          "data": {
            "text/plain": [
              "array([[-8.74009064e-06],\n",
              "       [-1.86365861e-05]])"
            ]
          },
          "metadata": {},
          "execution_count": 231
        }
      ]
    },
    {
      "cell_type": "code",
      "source": [
        "nn.W.keys(), nn.A.keys(), nn.H.keys()\n",
        "nn.dW.keys(), nn.dA.keys(), nn.H.keys()"
      ],
      "metadata": {
        "id": "htFf9drajteQ",
        "colab": {
          "base_uri": "https://localhost:8080/"
        },
        "outputId": "00898acd-7eb3-4c14-e8ef-ba0f800466d0"
      },
      "execution_count": 232,
      "outputs": [
        {
          "output_type": "execute_result",
          "data": {
            "text/plain": [
              "(dict_keys([2, 1]), dict_keys([2, 1]), dict_keys([0, 1, 2]))"
            ]
          },
          "metadata": {},
          "execution_count": 232
        }
      ]
    },
    {
      "cell_type": "code",
      "source": [
        "ytrain_oh[0, :]"
      ],
      "metadata": {
        "id": "pmf9mwr5e7pd",
        "colab": {
          "base_uri": "https://localhost:8080/"
        },
        "outputId": "740f4ba3-e274-49aa-d221-bbc317716f19"
      },
      "execution_count": 233,
      "outputs": [
        {
          "output_type": "execute_result",
          "data": {
            "text/plain": [
              "array([0., 0., 0., 0., 0., 0., 0., 0., 0., 1.])"
            ]
          },
          "metadata": {},
          "execution_count": 233
        }
      ]
    },
    {
      "cell_type": "code",
      "source": [
        "nn.dA[2].shape"
      ],
      "metadata": {
        "colab": {
          "base_uri": "https://localhost:8080/"
        },
        "id": "tbmI0BWRgQea",
        "outputId": "0dc3382f-d90d-440b-ae57-e7a16d3b1b3d"
      },
      "execution_count": 234,
      "outputs": [
        {
          "output_type": "execute_result",
          "data": {
            "text/plain": [
              "(10, 1)"
            ]
          },
          "metadata": {},
          "execution_count": 234
        }
      ]
    },
    {
      "cell_type": "code",
      "source": [
        "nn.H[2].shape "
      ],
      "metadata": {
        "colab": {
          "base_uri": "https://localhost:8080/"
        },
        "id": "zX_DyGugiAIb",
        "outputId": "43b6532e-964c-48ee-8e71-a205f6e0038c"
      },
      "execution_count": 235,
      "outputs": [
        {
          "output_type": "execute_result",
          "data": {
            "text/plain": [
              "(10, 1)"
            ]
          },
          "metadata": {},
          "execution_count": 235
        }
      ]
    },
    {
      "cell_type": "code",
      "source": [
        "(nn.H[2] - ytrain_oh[0, :]).shape"
      ],
      "metadata": {
        "colab": {
          "base_uri": "https://localhost:8080/"
        },
        "id": "7XkN-aj8iEaN",
        "outputId": "6c8d9326-9155-450f-ac98-d19642ade6c4"
      },
      "execution_count": 236,
      "outputs": [
        {
          "output_type": "execute_result",
          "data": {
            "text/plain": [
              "(10, 10)"
            ]
          },
          "metadata": {},
          "execution_count": 236
        }
      ]
    },
    {
      "cell_type": "code",
      "source": [
        " nn.H[2] - ytrain_oh[0, :].reshape(-1, 1)"
      ],
      "metadata": {
        "colab": {
          "base_uri": "https://localhost:8080/"
        },
        "id": "aImVnD19iKmx",
        "outputId": "8b91a742-b13c-405a-91be-5329a6c6434d"
      },
      "execution_count": 237,
      "outputs": [
        {
          "output_type": "execute_result",
          "data": {
            "text/plain": [
              "array([[ 2.25465838e-04],\n",
              "       [ 7.72242224e-04],\n",
              "       [ 3.63386105e-04],\n",
              "       [ 2.11707161e-04],\n",
              "       [ 1.37115679e-04],\n",
              "       [ 2.03592790e-04],\n",
              "       [ 6.22225841e-04],\n",
              "       [ 1.52814866e-05],\n",
              "       [ 3.26735858e-04],\n",
              "       [-2.87775298e-03]])"
            ]
          },
          "metadata": {},
          "execution_count": 237
        }
      ]
    },
    {
      "cell_type": "code",
      "source": [
        " nn.A[1]"
      ],
      "metadata": {
        "colab": {
          "base_uri": "https://localhost:8080/"
        },
        "id": "AiWsVirfiPqx",
        "outputId": "08423b65-3241-4a2b-a5bd-27f53ddc1f5e"
      },
      "execution_count": 238,
      "outputs": [
        {
          "output_type": "execute_result",
          "data": {
            "text/plain": [
              "array([[7.01536661],\n",
              "       [5.60667851]])"
            ]
          },
          "metadata": {},
          "execution_count": 238
        }
      ]
    },
    {
      "cell_type": "code",
      "source": [
        "nn.A[2]"
      ],
      "metadata": {
        "colab": {
          "base_uri": "https://localhost:8080/"
        },
        "id": "CTzevTwTmWjQ",
        "outputId": "9bbaeac0-5042-429e-957e-e8c34db17725"
      },
      "execution_count": 239,
      "outputs": [
        {
          "output_type": "execute_result",
          "data": {
            "text/plain": [
              "array([[-1.37782948],\n",
              "       [-0.14669987],\n",
              "       [-0.90053222],\n",
              "       [-1.44079413],\n",
              "       [-1.87517319],\n",
              "       [-1.47987627],\n",
              "       [-0.36269502],\n",
              "       [-4.06935607],\n",
              "       [-1.00684607],\n",
              "       [ 7.01663052]])"
            ]
          },
          "metadata": {},
          "execution_count": 239
        }
      ]
    },
    {
      "cell_type": "code",
      "source": [],
      "metadata": {
        "id": "A66NH56XpIJW"
      },
      "execution_count": 239,
      "outputs": []
    }
  ]
}