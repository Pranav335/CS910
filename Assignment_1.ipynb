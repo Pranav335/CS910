{
  "nbformat": 4,
  "nbformat_minor": 0,
  "metadata": {
    "colab": {
      "provenance": [],
      "authorship_tag": "ABX9TyN4cYMXeidMEVyyBzyiZ2k1",
      "include_colab_link": true
    },
    "kernelspec": {
      "name": "python3",
      "display_name": "Python 3"
    },
    "language_info": {
      "name": "python"
    }
  },
  "cells": [
    {
      "cell_type": "markdown",
      "metadata": {
        "id": "view-in-github",
        "colab_type": "text"
      },
      "source": [
        "<a href=\"https://colab.research.google.com/github/Pranav335/CS910/blob/main/Assignment_1.ipynb\" target=\"_parent\"><img src=\"https://colab.research.google.com/assets/colab-badge.svg\" alt=\"Open In Colab\"/></a>"
      ]
    },
    {
      "cell_type": "markdown",
      "source": [
        "# Libraries"
      ],
      "metadata": {
        "id": "CG42l1nIHI4p"
      }
    },
    {
      "cell_type": "code",
      "execution_count": 27,
      "metadata": {
        "id": "H1isRrCCHEs6"
      },
      "outputs": [],
      "source": [
        "from keras.datasets import fashion_mnist\n",
        "import matplotlib.pyplot as plt\n",
        "import numpy as np\n",
        "import pdb"
      ]
    },
    {
      "cell_type": "markdown",
      "source": [
        "# Question 1"
      ],
      "metadata": {
        "id": "I17ul_OhHTub"
      }
    },
    {
      "cell_type": "code",
      "source": [
        "(xtrain, ytrain), (xtest, ytest) = fashion_mnist.load_data()"
      ],
      "metadata": {
        "id": "hz8t9YslHTBP",
        "colab": {
          "base_uri": "https://localhost:8080/"
        },
        "outputId": "d707f268-c1f0-4da2-acfb-2584246062f1"
      },
      "execution_count": 2,
      "outputs": [
        {
          "output_type": "stream",
          "name": "stdout",
          "text": [
            "Downloading data from https://storage.googleapis.com/tensorflow/tf-keras-datasets/train-labels-idx1-ubyte.gz\n",
            "29515/29515 [==============================] - 0s 0us/step\n",
            "Downloading data from https://storage.googleapis.com/tensorflow/tf-keras-datasets/train-images-idx3-ubyte.gz\n",
            "26421880/26421880 [==============================] - 1s 0us/step\n",
            "Downloading data from https://storage.googleapis.com/tensorflow/tf-keras-datasets/t10k-labels-idx1-ubyte.gz\n",
            "5148/5148 [==============================] - 0s 0us/step\n",
            "Downloading data from https://storage.googleapis.com/tensorflow/tf-keras-datasets/t10k-images-idx3-ubyte.gz\n",
            "4422102/4422102 [==============================] - 0s 0us/step\n"
          ]
        }
      ]
    },
    {
      "cell_type": "code",
      "source": [
        "xtrain.shape"
      ],
      "metadata": {
        "colab": {
          "base_uri": "https://localhost:8080/"
        },
        "id": "4PVSj8Q9HvE5",
        "outputId": "2d539aec-4d93-4517-9b10-c04ce43f5470"
      },
      "execution_count": 3,
      "outputs": [
        {
          "output_type": "execute_result",
          "data": {
            "text/plain": [
              "(60000, 28, 28)"
            ]
          },
          "metadata": {},
          "execution_count": 3
        }
      ]
    },
    {
      "cell_type": "code",
      "source": [
        "ytrain.shape"
      ],
      "metadata": {
        "colab": {
          "base_uri": "https://localhost:8080/"
        },
        "id": "jcJSsnR_HxVT",
        "outputId": "a37917fb-9fd2-4440-da87-e9dda2f1e90c"
      },
      "execution_count": 4,
      "outputs": [
        {
          "output_type": "execute_result",
          "data": {
            "text/plain": [
              "(60000,)"
            ]
          },
          "metadata": {},
          "execution_count": 4
        }
      ]
    },
    {
      "cell_type": "code",
      "source": [
        "type(xtrain)"
      ],
      "metadata": {
        "colab": {
          "base_uri": "https://localhost:8080/"
        },
        "id": "a8AImJmxHzat",
        "outputId": "2fdaa812-c1f7-4d48-fac9-372661b6efd0"
      },
      "execution_count": null,
      "outputs": [
        {
          "output_type": "execute_result",
          "data": {
            "text/plain": [
              "numpy.ndarray"
            ]
          },
          "metadata": {},
          "execution_count": 252
        }
      ]
    },
    {
      "cell_type": "code",
      "source": [
        "\n",
        "\n",
        "plt.imshow(xtrain[2,:,:])"
      ],
      "metadata": {
        "colab": {
          "base_uri": "https://localhost:8080/",
          "height": 282
        },
        "id": "GMGpdKYiH2zm",
        "outputId": "ef8d9fc9-4c24-4625-9541-1322ff106f55"
      },
      "execution_count": null,
      "outputs": [
        {
          "output_type": "execute_result",
          "data": {
            "text/plain": [
              "<matplotlib.image.AxesImage at 0x7f1b9b5669d0>"
            ]
          },
          "metadata": {},
          "execution_count": 253
        },
        {
          "output_type": "display_data",
          "data": {
            "text/plain": [
              "<Figure size 432x288 with 1 Axes>"
            ],
            "image/png": "[encoded data removed]"
          },
          "metadata": {
            "needs_background": "light"
          }
        }
      ]
    },
    {
      "cell_type": "code",
      "source": [
        "def softmax(x):\n",
        "  exps = np.exp(x)\n",
        "  return exps/ np.sum(exps, axis = -1, keepdims = True)\n",
        "\n",
        "x = np.array([[1, 2], [4 ,2], [3,2]])\n",
        "softmax(x=x)"
      ],
      "metadata": {
        "colab": {
          "base_uri": "https://localhost:8080/"
        },
        "id": "GMM06ZAxzOB0",
        "outputId": "dbca9203-d12d-4850-b117-1aa4e92e49a0"
      },
      "execution_count": null,
      "outputs": [
        {
          "output_type": "execute_result",
          "data": {
            "text/plain": [
              "array([[0.26894142, 0.73105858],\n",
              "       [0.88079708, 0.11920292],\n",
              "       [0.73105858, 0.26894142]])"
            ]
          },
          "metadata": {},
          "execution_count": 254
        }
      ]
    },
    {
      "cell_type": "code",
      "source": [
        "np.sum(np.exp(x), axis = -1, keepdims = True).shape"
      ],
      "metadata": {
        "colab": {
          "base_uri": "https://localhost:8080/"
        },
        "id": "P5-uaei_0cS8",
        "outputId": "4d727232-3d94-44dd-ddbe-5651086e9c23"
      },
      "execution_count": null,
      "outputs": [
        {
          "output_type": "execute_result",
          "data": {
            "text/plain": [
              "(3, 1)"
            ]
          },
          "metadata": {},
          "execution_count": 255
        }
      ]
    },
    {
      "cell_type": "code",
      "source": [],
      "metadata": {
        "id": "gkVTWRNq0caW"
      },
      "execution_count": null,
      "outputs": []
    },
    {
      "cell_type": "markdown",
      "source": [
        "# Question 2\n",
        "\n",
        "\n",
        "Lets define the dimension of the various matrixes and vector.\n",
        "\n",
        "W -> (N)"
      ],
      "metadata": {
        "id": "OBCa81n4IPvh"
      }
    },
    {
      "cell_type": "code",
      "source": [
        "class neural_network:\n",
        "\n",
        "  def __init__(self, x , hidden_layer = [2]):\n",
        "    self.x = x\n",
        "    self.n_x = x.shape[1]\n",
        "    self.L = len(hidden_layer)\n",
        "    self.neuron = [self.n_x] + hidden_layer + [10]\n",
        "    self.W = {}\n",
        "    self.B = {}\n",
        "    for i in range(self.L + 1):\n",
        "      self.W[i+1] = np.random.randn(self.neuron[i], self.neuron[i+1])\n",
        "      self.B[i+1] = np.zeros((self.neuron[i+1]))\n",
        "\n",
        "  def sigmoid(self, x):\n",
        "    return 1.0/(1.0 + np.exp(-x))\n",
        "\n",
        "  def softmax(self, x):\n",
        "    exps = np.exp(x)\n",
        "    return exps/ np.sum(exps, axis = -1, keepdims = True)\n",
        "\n",
        "  def forward_pass(self):\n",
        "    self.A = {}\n",
        "    self.H = {}\n",
        "    self.H[0] = self.x\n",
        "    for i in range(self.L):\n",
        "      self.A[i+1] = self.H[i] @ self.W[i+1] + self.B[i+1]\n",
        "      self.H[i+1] = self.sigmoid(self.A[i+1])\n",
        "\n",
        "    self.A[self.L+1] = self.H[self.L] @ self.W[self.L+1] + self.B[self.L+1]\n",
        "    self.H[self.L+1] = self.softmax(self.A[self.L + 1])\n",
        "\n",
        "    return self.H[self.L+1]\n",
        "\n",
        "\n",
        "\n"
      ],
      "metadata": {
        "id": "MXiq2fABIRVY"
      },
      "execution_count": null,
      "outputs": []
    },
    {
      "cell_type": "code",
      "source": [
        "# Reshaping the array into a new row.\n",
        "xtrain = np.reshape(xtrain, (xtrain.shape[0], -1))/255\n",
        "xtest = np.reshape(xtrain, (xtest.shape[0], -1))/255\n",
        "xtrain.shape"
      ],
      "metadata": {
        "id": "CpFpECmXIDNo",
        "colab": {
          "base_uri": "https://localhost:8080/"
        },
        "outputId": "62fb83bf-290b-4494-eb13-a18d8010d5a7"
      },
      "execution_count": null,
      "outputs": [
        {
          "output_type": "execute_result",
          "data": {
            "text/plain": [
              "(60000, 784)"
            ]
          },
          "metadata": {},
          "execution_count": 257
        }
      ]
    },
    {
      "cell_type": "code",
      "source": [
        "xtrain[1, :]"
      ],
      "metadata": {
        "id": "UD9YzEmNwRIH"
      },
      "execution_count": null,
      "outputs": []
    },
    {
      "cell_type": "markdown",
      "source": [
        "# Question 3"
      ],
      "metadata": {
        "id": "OzohHvy-38EQ"
      }
    },
    {
      "cell_type": "code",
      "source": [
        "from sklearn.metrics import log_loss\n",
        "import matplotlib.pyplot as plt\n",
        "class neural_network:\n",
        "\n",
        "  def __init__(self, n_x , hidden_layer = [2]):\n",
        "    #x = x.reshape(1, -1)\n",
        "    #self.x = n_x # (N x 784)\n",
        "    #self.n_x = x.shape[1] # 784\n",
        "    self.n_x = n_x\n",
        "    self.L = len(hidden_layer) # 1\n",
        "    self.neuron = [self.n_x] + hidden_layer + [10] # [784, 1, 10 ]\n",
        "    self.W = {}\n",
        "    self.B = {}\n",
        "    self.A = {}\n",
        "    self.H = {}\n",
        "    for i in range(self.L + 1):\n",
        "      self.W[i+1] = np.random.randn(self.neuron[i+1], self.neuron[i]) #[n_y x n_x]\n",
        "      self.B[i+1] = np.zeros((self.neuron[i+1], 1)) # [n_y, 1]\n",
        "\n",
        "  def positive_sigmoid(self, x):\n",
        "    ''' Calculate the sigmoid function when x > 0'''\n",
        "    return 1.0/(1.0 + np.exp(-x))\n",
        "\n",
        "  def negative_sigmoid(self, x):\n",
        "    '''Calculate the sigmoid function when x < 0'''\n",
        "    exp = np.exp(x)\n",
        "    return exp/ (1 + exp)\n",
        "\n",
        "  def sigmoid(self, x):\n",
        "    ''' Calculate the sigmoid function'''\n",
        "    positives = x >=0  # Extract the index of the positive values\n",
        "    negative = ~positives\n",
        "\n",
        "    result = np.empty_like(x)\n",
        "    result[positives] = self.positive_sigmoid(x[positives]) # Find the sigmoid of the the positive \n",
        "    result[negative] = self.negative_sigmoid(x[negative])\n",
        "\n",
        "    return result\n",
        "\n",
        "  def softmax(self, x):\n",
        "    m = np.max(x)\n",
        "    exps = np.exp(x-m)\n",
        "    #return exps/ np.sum(exps, axis = -1, keepdims = True)\n",
        "    return exps/ np.sum(exps)\n",
        "\n",
        "  def forward_pass(self,x):\n",
        "    x = x.reshape(1, -1)\n",
        "    self.H[0] = x.T # (784 x N)\n",
        "    for i in range(self.L):\n",
        "      self.A[i+1] = self.W[i+1] @ self.H[i]  + self.B[i+1] # (2, 784) x (784, N) + (2, 1) -> (2, N)\n",
        "      self.H[i+1] = self.sigmoid(self.A[i+1]) #(2, N)\n",
        "\n",
        "    self.A[self.L+1] = self.W[self.L+1] @ self.H[self.L] + self.B[self.L+1] #(k, k-1) x (k-1, N) + (k, 1)-> (k, N)\n",
        "    self.H[self.L+1] = self.softmax(self.A[self.L + 1]) # (k, N)\n",
        "\n",
        "    return self.H[self.L+1] \n",
        "\n",
        "  def grad_sigmoid(self,x):\n",
        "    return x * (1 - x)\n",
        "\n",
        "  def gradient(self, x, y):\n",
        "    y = y.reshape(-1, 1)\n",
        "    self.dW = {}\n",
        "    self.dB = {}\n",
        "    self.dA = {}\n",
        "    self.dH = {}\n",
        "    # y = (N, k)\n",
        "    self.forward_pass(x)\n",
        "    self.dA[self.L + 1] = self.H[self.L+1] - y # (k, N)\n",
        "    for k in range(self.L+1, 0, -1):\n",
        "      self.dW[k] = self.dA[k] @ self.H[k-1].reshape(1, -1) # (2, N) x (N, 2) -> (2, 2)\n",
        "      #self.dB[k] = np.sum(self.dA[k], axis = 1).reshape(-1, 1) # (2, N) -> (2, 1)\n",
        "      self.dB[k] = self.dA[k]\n",
        "      if k > 1:\n",
        "        self.dH[k-1] = self.W[k].T @ self.dA[k] \n",
        "        self.dA[k-1] = self.dH[k-1] * self.grad_sigmoid(self.H[k-1])\n",
        "        \n",
        "\n",
        "  def cross_entropy(self, ytrue, ypred):\n",
        "    ytrue = ytrue.reshape(-1, 1)\n",
        "    ypred = ypred.reshape(-1, 1)\n",
        "    loss = 0\n",
        "    eps = 0.001\n",
        "    for y1, y2 in zip(ytrue, ypred):\n",
        "      loss -= y1 * np.log(y2 + eps)\n",
        "    \n",
        "    return loss\n",
        "\n",
        "\n",
        "  def fit_neural_network(self,X, Y, epochs = 1000, lr = 0.1):\n",
        "    loss = []\n",
        "    dW = {}\n",
        "    dB = {}\n",
        "    for i in range(self.L + 1):\n",
        "      dW[i+1] = np.random.randn(self.neuron[i+1], self.neuron[i]) #[n_y x n_x]\n",
        "      dB[i+1] = np.zeros((self.neuron[i+1], 1)) # [n_y, 1]\n",
        "    n_samples = X.shape[0]\n",
        "    print(n_samples)\n",
        "    for i in range(epochs):\n",
        "      epoch_loss = 0\n",
        "      for j in range(n_samples):\n",
        "        self.gradient(X[j,:], Y[j,:]) # Y -> (N, k)\n",
        "        for k in range(self.L + 1):\n",
        "          dW[k+1] += self.dW[k+1]\n",
        "          dB[k+1] += self.dB[k+1]\n",
        "      for k in range(self.L + 1):\n",
        "        self.W[k+1] -= lr * dW[k+1]/n_samples\n",
        "        self.B[k+1] -= lr * dB[k+1]/n_samples\n",
        "\n",
        "      for j in range(n_samples):\n",
        "        yhat = self.forward_pass(X[j,:])\n",
        "        epoch_loss += self.cross_entropy(Y[j,:], yhat)\n",
        "      #yhat = self.forward_pass()\n",
        "      #epoch_loss = self.cross_entropy(Y, yhat)\n",
        "      loss.append(epoch_loss)\n",
        "\n",
        "    \n",
        "    plt.plot([*range(epochs)], loss)\n",
        "    plt.xlabel('Epochs')\n",
        "    plt.ylabel('Loss')\n",
        "\n",
        "\n"
      ],
      "metadata": {
        "id": "D888uSgs4Lap"
      },
      "execution_count": null,
      "outputs": []
    },
    {
      "cell_type": "code",
      "source": [
        "from sklearn.preprocessing import OneHotEncoder\n",
        "\n",
        "encoder = OneHotEncoder()\n",
        "ytrain_oh = encoder.fit_transform(ytrain.reshape(-1,1))\n",
        "ytest_oh = encoder.fit_transform(ytest.reshape(-1,1))"
      ],
      "metadata": {
        "id": "DvZ_woArfgNs"
      },
      "execution_count": 5,
      "outputs": []
    },
    {
      "cell_type": "code",
      "source": [
        "ytrain_oh = ytrain_oh.toarray()\n",
        "ytest_oh = ytest_oh.toarray()"
      ],
      "metadata": {
        "id": "Q9OCEqx6idzW"
      },
      "execution_count": 6,
      "outputs": []
    },
    {
      "cell_type": "code",
      "source": [
        "ytrain_oh.shape"
      ],
      "metadata": {
        "colab": {
          "base_uri": "https://localhost:8080/"
        },
        "id": "7C3hqHuFisEJ",
        "outputId": "1941f19e-5c35-45a1-f2c2-24a84e36c062"
      },
      "execution_count": 7,
      "outputs": [
        {
          "output_type": "execute_result",
          "data": {
            "text/plain": [
              "(60000, 10)"
            ]
          },
          "metadata": {},
          "execution_count": 7
        }
      ]
    },
    {
      "cell_type": "code",
      "source": [
        "nn = neural_network(784)\n",
        "#yhat = nn.forward_pass(xtrain[0,:])\n",
        "#yhat.shape\n"
      ],
      "metadata": {
        "id": "W-OJTLr9el00"
      },
      "execution_count": null,
      "outputs": []
    },
    {
      "cell_type": "code",
      "source": [
        "nn.W[1]"
      ],
      "metadata": {
        "colab": {
          "base_uri": "https://localhost:8080/"
        },
        "id": "QX-DUm_prYXD",
        "outputId": "b1e1ec0a-08b5-4fc3-9ba1-cd7314315ba7"
      },
      "execution_count": null,
      "outputs": [
        {
          "output_type": "execute_result",
          "data": {
            "text/plain": [
              "array([[ 1.40790274,  1.16420623,  0.33438714, ...,  1.13362684,\n",
              "        -0.32268355, -0.22167457],\n",
              "       [ 1.14509321, -0.49032579,  0.09728161, ..., -1.08835109,\n",
              "        -0.39537016, -2.15809368]])"
            ]
          },
          "metadata": {},
          "execution_count": 289
        }
      ]
    },
    {
      "cell_type": "code",
      "source": [
        "nn.W[2]"
      ],
      "metadata": {
        "colab": {
          "base_uri": "https://localhost:8080/"
        },
        "id": "zO1r7OQjmss8",
        "outputId": "9f6784c1-5378-46cf-cf6a-874abe5325ef"
      },
      "execution_count": null,
      "outputs": [
        {
          "output_type": "execute_result",
          "data": {
            "text/plain": [
              "array([[ 0.33987347,  0.25011833],\n",
              "       [ 2.31243977,  0.56476993],\n",
              "       [-0.47069332, -0.04782913],\n",
              "       [-0.20487599,  2.42290243],\n",
              "       [-0.24751626,  0.07151252],\n",
              "       [ 0.54469797, -0.85838237],\n",
              "       [ 0.4093458 ,  1.75667235],\n",
              "       [ 1.0505058 , -0.66544314],\n",
              "       [ 0.72212223, -0.13029351],\n",
              "       [-0.30164378,  0.86135762]])"
            ]
          },
          "metadata": {},
          "execution_count": 290
        }
      ]
    },
    {
      "cell_type": "code",
      "source": [
        "nn.H[0].T.shape"
      ],
      "metadata": {
        "colab": {
          "base_uri": "https://localhost:8080/"
        },
        "id": "polCCeqQqvaQ",
        "outputId": "b91a0b06-c4bd-4831-9f19-06e4bf3ead52"
      },
      "execution_count": null,
      "outputs": [
        {
          "output_type": "execute_result",
          "data": {
            "text/plain": [
              "(1, 784)"
            ]
          },
          "metadata": {},
          "execution_count": 291
        }
      ]
    },
    {
      "cell_type": "code",
      "source": [
        "nn.fit_neural_network(xtrain[:10000, :],ytrain_oh[:10000, :], epochs = 1000)"
      ],
      "metadata": {
        "colab": {
          "base_uri": "https://localhost:8080/",
          "height": 296
        },
        "id": "mtkZA74tngam",
        "outputId": "8ecf9421-d107-47df-cfbf-9767f379c1fe"
      },
      "execution_count": null,
      "outputs": [
        {
          "output_type": "stream",
          "name": "stdout",
          "text": [
            "10000\n"
          ]
        },
        {
          "output_type": "display_data",
          "data": {
            "text/plain": [
              "<Figure size 432x288 with 1 Axes>"
            ],
            "image/png": "[encoded data removed]"
          },
          "metadata": {
            "needs_background": "light"
          }
        }
      ]
    },
    {
      "cell_type": "markdown",
      "source": [
        "# Stochastic  Gradient Descent"
      ],
      "metadata": {
        "id": "Ud8c5PPIcHPY"
      }
    },
    {
      "cell_type": "code",
      "source": [
        "from sklearn.metrics import log_loss\n",
        "import matplotlib.pyplot as plt\n",
        "class neural_network:\n",
        "\n",
        "  def __init__(self, n_x , hidden_layer = [2]):\n",
        "    #x = x.reshape(1, -1)\n",
        "    #self.x = n_x # (N x 784)\n",
        "    #self.n_x = x.shape[1] # 784\n",
        "    self.n_x = n_x\n",
        "    self.L = len(hidden_layer) # 1\n",
        "    self.neuron = [self.n_x] + hidden_layer + [10] # [784, 1, 10 ]\n",
        "    self.W = {}\n",
        "    self.B = {}\n",
        "    self.A = {}\n",
        "    self.H = {}\n",
        "    for i in range(self.L + 1):\n",
        "      self.W[i+1] = np.random.randn(self.neuron[i+1], self.neuron[i]) #[n_y x n_x]\n",
        "      self.B[i+1] = np.zeros((self.neuron[i+1], 1)) # [n_y, 1]\n",
        "\n",
        "  def positive_sigmoid(self, x):\n",
        "    ''' Calculate the sigmoid function when x > 0'''\n",
        "    return 1.0/(1.0 + np.exp(-x))\n",
        "\n",
        "  def negative_sigmoid(self, x):\n",
        "    '''Calculate the sigmoid function when x < 0'''\n",
        "    exp = np.exp(x)\n",
        "    return exp/ (1 + exp)\n",
        "\n",
        "  def sigmoid(self, x):\n",
        "    ''' Calculate the sigmoid function'''\n",
        "    positives = x >=0  # Extract the index of the positive values\n",
        "    negative = ~positives\n",
        "\n",
        "    result = np.empty_like(x)\n",
        "    result[positives] = self.positive_sigmoid(x[positives]) # Find the sigmoid of the the positive \n",
        "    result[negative] = self.negative_sigmoid(x[negative])\n",
        "\n",
        "    return result\n",
        "\n",
        "  def softmax(self, x):\n",
        "    m = np.max(x)\n",
        "    exps = np.exp(x-m)\n",
        "    #return exps/ np.sum(exps, axis = -1, keepdims = True)\n",
        "    return exps/ np.sum(exps)\n",
        "\n",
        "  def forward_pass(self,x):\n",
        "    x = x.reshape(1, -1)\n",
        "    self.H[0] = x.T # (784 x N)\n",
        "    for i in range(self.L):\n",
        "      self.A[i+1] = self.W[i+1] @ self.H[i]  + self.B[i+1] # (2, 784) x (784, N) + (2, 1) -> (2, N)\n",
        "      self.H[i+1] = self.sigmoid(self.A[i+1]) #(2, N)\n",
        "\n",
        "    self.A[self.L+1] = self.W[self.L+1] @ self.H[self.L] + self.B[self.L+1] #(k, k-1) x (k-1, N) + (k, 1)-> (k, N)\n",
        "    self.H[self.L+1] = self.softmax(self.A[self.L + 1]) # (k, N)\n",
        "\n",
        "    return self.H[self.L+1] \n",
        "\n",
        "  def grad_sigmoid(self,x):\n",
        "    return x * (1 - x)\n",
        "\n",
        "  def gradient(self, x, y):\n",
        "    y = y.reshape(-1, 1)\n",
        "    self.dW = {}\n",
        "    self.dB = {}\n",
        "    self.dA = {}\n",
        "    self.dH = {}\n",
        "    # y = (N, k)\n",
        "    self.forward_pass(x)\n",
        "    self.dA[self.L + 1] = self.H[self.L+1] - y # (k, N)\n",
        "    for k in range(self.L+1, 0, -1):\n",
        "      self.dW[k] = self.dA[k] @ self.H[k-1].reshape(1, -1) # (2, N) x (N, 2) -> (2, 2)\n",
        "      #self.dB[k] = np.sum(self.dA[k], axis = 1).reshape(-1, 1) # (2, N) -> (2, 1)\n",
        "      self.dB[k] = self.dA[k]\n",
        "      if k > 1:\n",
        "        self.dH[k-1] = self.W[k].T @ self.dA[k] \n",
        "        self.dA[k-1] = self.dH[k-1] * self.grad_sigmoid(self.H[k-1])\n",
        "        \n",
        "  \n",
        "  def cross_entropy(self, ytrue, ypred):\n",
        "    ytrue = ytrue.reshape(-1, 1)\n",
        "    ypred = ypred.reshape(-1, 1)\n",
        "    loss = 0\n",
        "    eps = 0.001\n",
        "    for y1, y2 in zip(ytrue, ypred):\n",
        "      loss -= y1 * np.log(y2 + eps)\n",
        "    \n",
        "    return loss\n",
        "\n",
        "\n",
        "  def fit_neural_network(self,X, Y, epochs = 10, lr = 1e-8):\n",
        "    loss = []\n",
        "    dW = {}\n",
        "    dB = {}\n",
        "    for i in range(self.L + 1):\n",
        "      dW[i+1] = np.random.randn(self.neuron[i+1], self.neuron[i]) #[n_y x n_x]\n",
        "      dB[i+1] = np.zeros((self.neuron[i+1], 1)) # [n_y, 1]\n",
        "    n_samples = X.shape[0]\n",
        "    print(n_samples)\n",
        "    for i in range(epochs):\n",
        "      epoch_loss = 0\n",
        "      for j in range(n_samples):\n",
        "        self.gradient(X[j,:], Y[j,:]) # Y -> (N, k)\n",
        "        for k in range(self.L + 1):\n",
        "          dW[k+1] += self.dW[k+1]\n",
        "          dB[k+1] += self.dB[k+1]\n",
        "          self.W[k+1] -= lr * dW[k+1]\n",
        "          self.B[k+1] -= lr * dB[k+1] \n",
        "\n",
        "      for j in range(n_samples):\n",
        "        yhat = self.forward_pass(X[j,:])\n",
        "        epoch_loss += self.cross_entropy(Y[j,:], yhat)\n",
        "      #yhat = self.forward_pass()\n",
        "      #epoch_loss = self.cross_entropy(Y, yhat)\n",
        "      loss.append(epoch_loss/n_samples)\n",
        "\n",
        "    \n",
        "    plt.plot([*range(epochs)], loss)\n",
        "    plt.xlabel('Epochs')\n",
        "    plt.ylabel('Loss')\n",
        "\n",
        "\n"
      ],
      "metadata": {
        "id": "A66NH56XpIJW"
      },
      "execution_count": 33,
      "outputs": []
    },
    {
      "cell_type": "code",
      "source": [
        "nn = neural_network(784)\n",
        "nn.fit_neural_network(xtrain[:100, :],ytrain_oh[:100, :], epochs = 100)"
      ],
      "metadata": {
        "colab": {
          "base_uri": "https://localhost:8080/",
          "height": 296
        },
        "id": "fMkJS_Fycg5r",
        "outputId": "4a6e1ac3-b597-45fe-e78d-63251777d1cf"
      },
      "execution_count": 34,
      "outputs": [
        {
          "output_type": "stream",
          "name": "stdout",
          "text": [
            "100\n"
          ]
        },
        {
          "output_type": "display_data",
          "data": {
            "text/plain": [
              "<Figure size 432x288 with 1 Axes>"
            ],
            "image/png": "[encoded data removed]"
          },
          "metadata": {
            "needs_background": "light"
          }
        }
      ]
    },
    {
      "cell_type": "markdown",
      "source": [
        "# Optimizer"
      ],
      "metadata": {
        "id": "HbnfZ9lXjcyA"
      }
    },
    {
      "cell_type": "code",
      "source": [
        "from sklearn.metrics import log_loss\n",
        "import matplotlib.pyplot as plt\n",
        "class neural_network:\n",
        "\n",
        "  def __init__(self, n_x , hidden_layer = [2]):\n",
        "    #x = x.reshape(1, -1)\n",
        "    #self.x = n_x # (N x 784)\n",
        "    #self.n_x = x.shape[1] # 784\n",
        "    self.n_x = n_x\n",
        "    self.L = len(hidden_layer) # 1\n",
        "    self.neuron = [self.n_x] + hidden_layer + [10] # [784, 1, 10 ]\n",
        "    self.W = {}\n",
        "    self.B = {}\n",
        "    self.A = {}\n",
        "    self.H = {}\n",
        "    for i in range(self.L + 1):\n",
        "      self.W[i+1] = np.random.randn(self.neuron[i+1], self.neuron[i]) #[n_y x n_x]\n",
        "      self.B[i+1] = np.zeros((self.neuron[i+1], 1)) # [n_y, 1]\n",
        "\n",
        "  def positive_sigmoid(self, x):\n",
        "    ''' Calculate the sigmoid function when x > 0'''\n",
        "    return 1.0/(1.0 + np.exp(-x))\n",
        "\n",
        "  def negative_sigmoid(self, x):\n",
        "    '''Calculate the sigmoid function when x < 0'''\n",
        "    exp = np.exp(x)\n",
        "    return exp/ (1 + exp)\n",
        "\n",
        "  def sigmoid(self, x):\n",
        "    ''' Calculate the sigmoid function'''\n",
        "    positives = x >=0  # Extract the index of the positive values\n",
        "    negative = ~positives\n",
        "\n",
        "    result = np.empty_like(x)\n",
        "    result[positives] = self.positive_sigmoid(x[positives]) # Find the sigmoid of the the positive \n",
        "    result[negative] = self.negative_sigmoid(x[negative])\n",
        "\n",
        "    return result\n",
        "\n",
        "  def softmax(self, x):\n",
        "    m = np.max(x)\n",
        "    exps = np.exp(x-m)\n",
        "    #return exps/ np.sum(exps, axis = -1, keepdims = True)\n",
        "    return exps/ np.sum(exps)\n",
        "\n",
        "  def forward_pass(self,x):\n",
        "    x = x.reshape(1, -1)\n",
        "    self.H[0] = x.T # (784 x N)\n",
        "    for i in range(self.L):\n",
        "      self.A[i+1] = self.W[i+1] @ self.H[i]  + self.B[i+1] # (2, 784) x (784, N) + (2, 1) -> (2, N)\n",
        "      self.H[i+1] = self.sigmoid(self.A[i+1]) #(2, N)\n",
        "\n",
        "    self.A[self.L+1] = self.W[self.L+1] @ self.H[self.L] + self.B[self.L+1] #(k, k-1) x (k-1, N) + (k, 1)-> (k, N)\n",
        "    self.H[self.L+1] = self.softmax(self.A[self.L + 1]) # (k, N)\n",
        "\n",
        "    return self.H[self.L+1] \n",
        "\n",
        "  def grad_sigmoid(self,x):\n",
        "    return x * (1 - x)\n",
        "\n",
        "  def gradient(self, x, y):\n",
        "    y = y.reshape(-1, 1)\n",
        "    self.dW = {}\n",
        "    self.dB = {}\n",
        "    self.dA = {}\n",
        "    self.dH = {}\n",
        "    # y = (N, k)\n",
        "    self.forward_pass(x)\n",
        "    self.dA[self.L + 1] = self.H[self.L+1] - y # (k, N)\n",
        "    for k in range(self.L+1, 0, -1):\n",
        "      self.dW[k] = self.dA[k] @ self.H[k-1].reshape(1, -1) # (2, N) x (N, 2) -> (2, 2)\n",
        "      #self.dB[k] = np.sum(self.dA[k], axis = 1).reshape(-1, 1) # (2, N) -> (2, 1)\n",
        "      self.dB[k] = self.dA[k]\n",
        "      if k > 1:\n",
        "        self.dH[k-1] = self.W[k].T @ self.dA[k] \n",
        "        self.dA[k-1] = self.dH[k-1] * self.grad_sigmoid(self.H[k-1])\n",
        "        \n",
        "  \n",
        "  def cross_entropy(self, ytrue, ypred):\n",
        "    ytrue = ytrue.reshape(-1, 1)\n",
        "    ypred = ypred.reshape(-1, 1)\n",
        "    loss = 0\n",
        "    eps = 0.001\n",
        "    for y1, y2 in zip(ytrue, ypred):\n",
        "      loss -= y1 * np.log(y2 + eps)\n",
        "    \n",
        "    return loss\n",
        "\n",
        "\n",
        "  def fit_neural_network(self,X, Y, epochs = 10, lr = 1e-8, optimizer = 'GD', beta = 0.001):\n",
        "    loss = []\n",
        "    dW = {}\n",
        "    dB = {}\n",
        "    dU = {}\n",
        "    dBu = {}\n",
        "    for i in range(self.L + 1):\n",
        "      dW[i+1] = np.zeros((self.neuron[i+1], self.neuron[i])) #[n_y x n_x]\n",
        "      dB[i+1] = np.zeros((self.neuron[i+1], 1)) # [n_y, 1]\n",
        "      dU[i+1] = np.zeros((self.neuron[i+1], self.neuron[i]))\n",
        "      dBu[i+1] = np.zeros((self.neuron[i+1], 1)) \n",
        "                                \n",
        "    n_samples = X.shape[0]\n",
        "    print(n_samples)\n",
        "    for i in range(epochs):\n",
        "      epoch_loss = 0\n",
        "      for j in range(n_samples):\n",
        "        self.gradient(X[j,:], Y[j,:]) # Y -> (N, k)\n",
        "        for k in range(self.L + 1):\n",
        "          dW[k+1] += self.dW[k+1]\n",
        "          dB[k+1] += self.dB[k+1]\n",
        "          if optimizer == 'MBGD':\n",
        "            dU[k+1] = beta * dU[k+1] + dW[k+1]\n",
        "            self.W[k+1] -= lr * dU[k+1]\n",
        "            dBu[k+1] = beta * dBu[k+1] + dB[k+1]\n",
        "            self.B[k+1] -= lr * dBu[k+1]\n",
        "          else:\n",
        "            self.W[k+1] -= lr * dW[k+1]\n",
        "            self.B[k+1] -= lr * dB[k+1]\n",
        "\n",
        "\n",
        "\n",
        "      for j in range(n_samples):\n",
        "        yhat = self.forward_pass(X[j,:])\n",
        "        epoch_loss += self.cross_entropy(Y[j,:], yhat)\n",
        "      #yhat = self.forward_pass()\n",
        "      #epoch_loss = self.cross_entropy(Y, yhat)\n",
        "      loss.append(epoch_loss/n_samples)\n",
        "\n",
        "    \n",
        "    plt.plot([*range(epochs)], loss)\n",
        "    plt.xlabel('Epochs')\n",
        "    plt.ylabel('Loss')\n",
        "\n",
        "\n"
      ],
      "metadata": {
        "id": "3Ln779ImjbFA"
      },
      "execution_count": 49,
      "outputs": []
    },
    {
      "cell_type": "code",
      "source": [
        "nn = neural_network(784)\n",
        "nn.fit_neural_network(xtrain[:100, :],ytrain_oh[:100, :], epochs = 100, optimizer = 'MBGD')"
      ],
      "metadata": {
        "colab": {
          "base_uri": "https://localhost:8080/",
          "height": 296
        },
        "id": "8LP1Ikiunb5W",
        "outputId": "9ce8c7ba-baa7-4776-df30-9c4c4287d789"
      },
      "execution_count": 50,
      "outputs": [
        {
          "output_type": "stream",
          "name": "stdout",
          "text": [
            "100\n"
          ]
        },
        {
          "output_type": "display_data",
          "data": {
            "text/plain": [
              "<Figure size 432x288 with 1 Axes>"
            ],
            "image/png": "[encoded data removed]"
          },
          "metadata": {
            "needs_background": "light"
          }
        }
      ]
    },
    {
      "cell_type": "code",
      "source": [
        "from sklearn.metrics import log_loss\n",
        "import matplotlib.pyplot as plt\n",
        "class neural_network:\n",
        "\n",
        "  def __init__(self, n_x , hidden_layer = [2]):\n",
        "    #x = x.reshape(1, -1)\n",
        "    #self.x = n_x # (N x 784)\n",
        "    #self.n_x = x.shape[1] # 784\n",
        "    self.n_x = n_x\n",
        "    self.L = len(hidden_layer) # 1\n",
        "    self.neuron = [self.n_x] + hidden_layer + [10] # [784, 1, 10 ]\n",
        "    self.W = {}\n",
        "    self.B = {}\n",
        "    self.A = {}\n",
        "    self.H = {}\n",
        "    for i in range(self.L + 1):\n",
        "      self.W[i+1] = np.random.randn(self.neuron[i+1], self.neuron[i]) #[n_y x n_x]\n",
        "      self.B[i+1] = np.zeros((self.neuron[i+1], 1)) # [n_y, 1]\n",
        "\n",
        "  def positive_sigmoid(self, x):\n",
        "    ''' Calculate the sigmoid function when x > 0'''\n",
        "    return 1.0/(1.0 + np.exp(-x))\n",
        "\n",
        "  def negative_sigmoid(self, x):\n",
        "    '''Calculate the sigmoid function when x < 0'''\n",
        "    exp = np.exp(x)\n",
        "    return exp/ (1 + exp)\n",
        "\n",
        "  def sigmoid(self, x):\n",
        "    ''' Calculate the sigmoid function'''\n",
        "    positives = x >=0  # Extract the index of the positive values\n",
        "    negative = ~positives\n",
        "\n",
        "    result = np.empty_like(x)\n",
        "    result[positives] = self.positive_sigmoid(x[positives]) # Find the sigmoid of the the positive \n",
        "    result[negative] = self.negative_sigmoid(x[negative])\n",
        "\n",
        "    return result\n",
        "\n",
        "  def softmax(self, x):\n",
        "    m = np.max(x)\n",
        "    exps = np.exp(x-m)\n",
        "    #return exps/ np.sum(exps, axis = -1, keepdims = True)\n",
        "    return exps/ np.sum(exps)\n",
        "\n",
        "  def forward_pass(self,x):\n",
        "    x = x.reshape(1, -1)\n",
        "    self.H[0] = x.T # (784 x N)\n",
        "    for i in range(self.L):\n",
        "      self.A[i+1] = self.W[i+1] @ self.H[i]  + self.B[i+1] # (2, 784) x (784, N) + (2, 1) -> (2, N)\n",
        "      self.H[i+1] = self.sigmoid(self.A[i+1]) #(2, N)\n",
        "\n",
        "    self.A[self.L+1] = self.W[self.L+1] @ self.H[self.L] + self.B[self.L+1] #(k, k-1) x (k-1, N) + (k, 1)-> (k, N)\n",
        "    self.H[self.L+1] = self.softmax(self.A[self.L + 1]) # (k, N)\n",
        "\n",
        "    return self.H[self.L+1] \n",
        "\n",
        "  def grad_sigmoid(self,x):\n",
        "    return x * (1 - x)\n",
        "\n",
        "  def gradient(self, x, y):\n",
        "    y = y.reshape(-1, 1)\n",
        "    self.dW = {}\n",
        "    self.dB = {}\n",
        "    self.dA = {}\n",
        "    self.dH = {}\n",
        "    # y = (N, k)\n",
        "    self.forward_pass(x)\n",
        "    self.dA[self.L + 1] = self.H[self.L+1] - y # (k, N)\n",
        "    for k in range(self.L+1, 0, -1):\n",
        "      self.dW[k] = self.dA[k] @ self.H[k-1].reshape(1, -1) # (2, N) x (N, 2) -> (2, 2)\n",
        "      #self.dB[k] = np.sum(self.dA[k], axis = 1).reshape(-1, 1) # (2, N) -> (2, 1)\n",
        "      self.dB[k] = self.dA[k]\n",
        "      if k > 1:\n",
        "        self.dH[k-1] = self.W[k].T @ self.dA[k] \n",
        "        self.dA[k-1] = self.dH[k-1] * self.grad_sigmoid(self.H[k-1])\n",
        "        \n",
        "  \n",
        "  def cross_entropy(self, ytrue, ypred):\n",
        "    ytrue = ytrue.reshape(-1, 1)\n",
        "    ypred = ypred.reshape(-1, 1)\n",
        "    loss = 0\n",
        "    eps = 0.001\n",
        "    for y1, y2 in zip(ytrue, ypred):\n",
        "      loss -= y1 * np.log(y2 + eps)\n",
        "    \n",
        "    return loss\n",
        "\n",
        "\n",
        "  def fit_neural_network(self,X, Y, epochs = 10, lr = 1e-8, optimizer = 'GD', beta = 0.001):\n",
        "    loss = []\n",
        "    dW = {}\n",
        "    dB = {}\n",
        "    dU = {}\n",
        "    dBu = {}\n",
        "    for i in range(self.L + 1):\n",
        "      dW[i+1] = np.zeros((self.neuron[i+1], self.neuron[i])) #[n_y x n_x]\n",
        "      dB[i+1] = np.zeros((self.neuron[i+1], 1)) # [n_y, 1]\n",
        "      dU[i+1] = np.zeros((self.neuron[i+1], self.neuron[i]))\n",
        "      dBu[i+1] = np.zeros((self.neuron[i+1], 1)) \n",
        "                                \n",
        "    n_samples = X.shape[0]\n",
        "    print(n_samples)\n",
        "    for i in range(epochs):\n",
        "      epoch_loss = 0\n",
        "      for j in range(n_samples):\n",
        "        self.gradient(X[j,:], Y[j,:]) # Y -> (N, k)\n",
        "        for k in range(self.L + 1):\n",
        "          dW[k+1] += self.dW[k+1]\n",
        "          dB[k+1] += self.dB[k+1]\n",
        "          if optimizer == 'MBGD':\n",
        "            dU[k+1] = beta * dU[k+1] + dW[k+1]\n",
        "            self.W[k+1] -= lr * dU[k+1]\n",
        "            dBu[k+1] = beta * dBu[k+1] + dB[k+1]\n",
        "            self.B[k+1] -= lr * dBu[k+1]\n",
        "          else:\n",
        "            self.W[k+1] -= lr * dW[k+1]\n",
        "            self.B[k+1] -= lr * dB[k+1]\n",
        "\n",
        "\n",
        "\n",
        "      for j in range(n_samples):\n",
        "        yhat = self.forward_pass(X[j,:])\n",
        "        epoch_loss += self.cross_entropy(Y[j,:], yhat)\n",
        "      #yhat = self.forward_pass()\n",
        "      #epoch_loss = self.cross_entropy(Y, yhat)\n",
        "      loss.append(epoch_loss/n_samples)\n",
        "\n",
        "    \n",
        "    plt.plot([*range(epochs)], loss)\n",
        "    plt.xlabel('Epochs')\n",
        "    plt.ylabel('Loss')\n",
        "\n",
        "\n"
      ],
      "metadata": {
        "id": "2RDteRxBHUxL"
      },
      "execution_count": null,
      "outputs": []
    }
  ]
}